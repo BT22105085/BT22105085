{
  "nbformat": 4,
  "nbformat_minor": 0,
  "metadata": {
    "colab": {
      "provenance": [],
      "authorship_tag": "ABX9TyPKV5moB9vWII0Xk2l1GbRe",
      "include_colab_link": true
    },
    "kernelspec": {
      "name": "python3",
      "display_name": "Python 3"
    },
    "language_info": {
      "name": "python"
    }
  },
  "cells": [
    {
      "cell_type": "markdown",
      "metadata": {
        "id": "view-in-github",
        "colab_type": "text"
      },
      "source": [
        "<a href=\"https://colab.research.google.com/github/BT22105085/BT22105085/blob/main/assinment_6_question_1.ipynb\" target=\"_parent\"><img src=\"https://colab.research.google.com/assets/colab-badge.svg\" alt=\"Open In Colab\"/></a>"
      ]
    },
    {
      "cell_type": "code",
      "execution_count": 4,
      "metadata": {
        "colab": {
          "base_uri": "https://localhost:8080/"
        },
        "id": "pUZTuSJ47Wpz",
        "outputId": "886f8e73-bd66-46d4-889e-3213694f4990"
      },
      "outputs": [
        {
          "output_type": "stream",
          "name": "stdout",
          "text": [
            "enter a number\n",
            "6\n",
            "6 is a perfect number\n"
          ]
        }
      ],
      "source": [
        "# Assignment 6\n",
        "# Question 1\n",
        "\n",
        "print (\"enter a number\" )\n",
        "n=int(input ())\n",
        "sum_=0\n",
        "for i in range (1,n//2+1):\n",
        "   if n%i==0:\n",
        "      sum_+=i\n",
        "\n",
        "if sum_==n:\n",
        "   print (f\"{n} is a perfect number\" )\n",
        " \n",
        "else:\n",
        "  print (f\"{n} is not a perfect number\")\n",
        "\n"
      ]
    },
    {
      "cell_type": "code",
      "source": [],
      "metadata": {
        "id": "RVolSfou7olO"
      },
      "execution_count": null,
      "outputs": []
    },
    {
      "cell_type": "code",
      "source": [],
      "metadata": {
        "id": "9zwqV05A7wu1"
      },
      "execution_count": null,
      "outputs": []
    }
  ]
}